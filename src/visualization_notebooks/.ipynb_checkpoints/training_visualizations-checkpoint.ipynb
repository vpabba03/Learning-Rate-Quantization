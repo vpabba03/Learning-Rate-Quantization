{
 "cells": [
  {
   "cell_type": "code",
   "execution_count": 1,
   "id": "8d75fc67-a1e9-4be3-ac09-e4f84981262f",
   "metadata": {},
   "outputs": [],
   "source": [
    "import pandas as pd\n",
    "import matplotlib.pyplot as plt\n",
    "import os\n",
    "import json"
   ]
  },
  {
   "cell_type": "code",
   "execution_count": 4,
   "id": "09f39bdc-6c8a-4b68-81e6-cdccb7cb00ab",
   "metadata": {},
   "outputs": [],
   "source": [
    "def plot_training(model, output_dir='../../imgs/training_visualizations'):\n",
    "    with open(f\"../trained_model_weights/resnet{model}_metrics.json\", \"r\") as f:\n",
    "        data = json.load(f)\n",
    "    \n",
    "    learning_rates = []\n",
    "    losses = []\n",
    "    accuracies = []\n",
    "    epochs = []\n",
    "    \n",
    "    for lr, metrics in data.items():\n",
    "        for epoch, (loss, accuracy) in enumerate(zip(metrics['loss'], metrics['accuracy']), 1):\n",
    "            learning_rates.append(float(lr))\n",
    "            losses.append(loss)\n",
    "            accuracies.append(accuracy)\n",
    "            epochs.append(epoch)\n",
    "    \n",
    "    df = pd.DataFrame({\n",
    "        'Learning Rate': learning_rates,\n",
    "        'Epoch': epochs,\n",
    "        'Loss': losses,\n",
    "        'Accuracy (%)': accuracies\n",
    "    })\n",
    "\n",
    "    plt.figure(figsize=(15, 6))\n",
    "\n",
    "    # Plot Loss\n",
    "    plt.subplot(1, 2, 1)\n",
    "    for lr in sorted(df['Learning Rate'].unique()):\n",
    "        subset = df[df['Learning Rate'] == lr]\n",
    "        plt.plot(subset['Epoch'], subset['Loss'], label=f'LR = {lr}', marker='o')\n",
    "    plt.title(f'ResNet-{model} Training Loss by Learning Rate', fontsize=14)\n",
    "    plt.xlabel('Epoch', fontsize=12)\n",
    "    plt.ylabel('Loss', fontsize=12)\n",
    "    plt.legend(title='Learning Rates')\n",
    "    plt.grid(True, linestyle='--', alpha=0.7)\n",
    "    \n",
    "    # Plot Accuracy\n",
    "    plt.subplot(1, 2, 2)\n",
    "    for lr in sorted(df['Learning Rate'].unique()):\n",
    "        subset = df[df['Learning Rate'] == lr]\n",
    "        plt.plot(subset['Epoch'], subset['Accuracy (%)'], label=f'LR = {lr}', marker='o')\n",
    "    plt.title(f'ResNet-{model} Training Accuracy by Learning Rate', fontsize=14)\n",
    "    plt.xlabel('Epoch', fontsize=12)\n",
    "    plt.ylabel('Accuracy (%)', fontsize=12)\n",
    "    plt.legend(title='Learning Rates')\n",
    "    plt.grid(True, linestyle='--', alpha=0.7)\n",
    "    \n",
    "    plt.tight_layout()\n",
    "    output_path = os.path.join(output_dir, f\"resnet{model}_training_metrics.png\")\n",
    "    plt.savefig(output_path, dpi=300, bbox_inches='tight')\n",
    "    plt.close()\n",
    "    \n",
    "    print(f\"Plot saved to {output_path}\")"
   ]
  },
  {
   "cell_type": "code",
   "execution_count": null,
   "id": "1db58630-6540-4dc6-a597-9d4f2c235313",
   "metadata": {},
   "outputs": [],
   "source": []
  },
  {
   "cell_type": "code",
   "execution_count": 5,
   "id": "ccee0cb8-f53e-40d0-aa73-23e985fd0242",
   "metadata": {},
   "outputs": [
    {
     "name": "stdout",
     "output_type": "stream",
     "text": [
      "Plot saved to ../../imgs/training_visualizations/resnet18_training_metrics.png\n",
      "Plot saved to ../../imgs/training_visualizations/resnet50_training_metrics.png\n"
     ]
    }
   ],
   "source": [
    "plot_training(18)\n",
    "plot_training(50)"
   ]
  },
  {
   "cell_type": "code",
   "execution_count": null,
   "id": "c696c4b4-37df-4c30-9842-9ba8e4e4a9d0",
   "metadata": {},
   "outputs": [],
   "source": []
  }
 ],
 "metadata": {
  "kernelspec": {
   "display_name": "Python 3 (ipykernel)",
   "language": "python",
   "name": "python3"
  },
  "language_info": {
   "codemirror_mode": {
    "name": "ipython",
    "version": 3
   },
   "file_extension": ".py",
   "mimetype": "text/x-python",
   "name": "python",
   "nbconvert_exporter": "python",
   "pygments_lexer": "ipython3",
   "version": "3.11.9"
  }
 },
 "nbformat": 4,
 "nbformat_minor": 5
}
